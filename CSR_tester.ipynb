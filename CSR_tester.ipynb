{
 "cells": [
  {
   "cell_type": "markdown",
   "id": "71561a19-8b73-413b-aa3a-d144a6505eb5",
   "metadata": {},
   "source": [
    "### Importation du nécessaire"
   ]
  },
  {
   "cell_type": "code",
   "execution_count": null,
   "id": "d587aafc-62e2-4944-8702-bfa793b0e400",
   "metadata": {},
   "outputs": [],
   "source": [
    "import numpy as np\n",
    "class csr_mat:\n",
    "    \n",
    "    def __init__(s, *args):\n",
    "        if len(args) == 1: # le constructeur est appellé avec un seul argument\n",
    "            A = np.array(args[0],dtype=float)\n",
    "            s.shape = A.shape\n",
    "            s.AV = []\n",
    "            s.JC = []\n",
    "            s.IA = [0]\n",
    "            for i in range(len(A[1])):\n",
    "                cnt = 0\n",
    "                for j in range(len(A)):\n",
    "                    if A[i,j] != 0:\n",
    "                        s.AV.append(A[i,j])\n",
    "                        s.JC.append(j)\n",
    "                        cnt += 1\n",
    "                s.IA.append(s.IA[-1] + cnt)\n",
    "            s.AV = np.array(s.AV)\n",
    "            s.JC = np.array(s.JC,dtype=int)\n",
    "            s.IA = np.array(s.IA,dtype=int)\n",
    "        else:\n",
    "            s.AV = np.array(args[0])\n",
    "            s.JC = np.array(args[1],dtype=int)\n",
    "            s.IA = np.array(args[2],dtype=int)\n",
    "            s.shape = np.array(args[3],dtype=int)\n",
    "    \n",
    "    def toarray(s):\n",
    "        A = np.zeros(s.shape)\n",
    "        for row in range(s.shape[0]):\n",
    "            for p in range(s.IA[row],s.IA[row+1]):\n",
    "                A[row,s.JC[p]] = s.AV[p]\n",
    "        return A\n",
    "        \n",
    "            \n",
    "\n",
    "    def dot(s,o):\n",
    "        Y = np.zeros(s.shape[0])\n",
    "        for i in range(s.shape[0]):\n",
    "            k1 = s.IA[i]\n",
    "            k2 = s.IA[i+1]\n",
    "            Y[i] = sum(s.AV[k1:k2]*o[s.JC[k1:k2]])\n",
    "        return Y\n",
    "    \n",
    "    def transpose(s):\n",
    "        aux = np.zeros(s.shape[1])\n",
    "        for i in s.JC:\n",
    "            aux[i]+=1\n",
    "        \n",
    "        IAt = np.zeros(s.shape[1]+1,dtype=int)\n",
    "        IAt[0]=aux[0]\n",
    "        for i in range(len(IAt)-1):\n",
    "            IAt[i+1]=IAt[i]+aux[i]\n",
    "        aux = np.zeros(s.shape[1])\n",
    "        \n",
    "        AVt = np.zeros(s.AV.shape)\n",
    "        JCt = np.zeros(s.JC.shape)\n",
    "        for i in range(len(s.IA)):\n",
    "            for j in range(len(s.JC)):\n",
    "                if s.IA[i]<=j<=s.IA[i+1]:\n",
    "                    k = s.JC[j]\n",
    "                    JCt[IAt[k]+aux[k]]=i\n",
    "                    AV[IAt[k]+aux[k]]=AV[j]\n",
    "                    aux[k]=aux[k]+1\n",
    "        return csr_mat(AVt,JCt,IAt,(s.shape[1],s.shape[0]))\n",
    "\n",
    "rng = np.random.default_rng()\n",
    "\n",
    "def gen_matrix_plain(shape,filling_rate=.5,lower=0,upper=9):\n",
    "    blank = np.zeros((shape,shape))\n",
    "    for i in range(shape):\n",
    "        for j in range(shape):\n",
    "            if rng.random() < filling_rate:\n",
    "                blank[i,j] = rng.choice(range(lower,upper+1))\n",
    "    return blank"
   ]
  },
  {
   "cell_type": "markdown",
   "id": "529c37b2-00bf-4ff1-b834-80ea24493521",
   "metadata": {},
   "source": [
    "# Plain to csr"
   ]
  },
  {
   "cell_type": "code",
   "execution_count": null,
   "id": "414a64ee-5461-4240-9941-8ddf966e7f44",
   "metadata": {},
   "outputs": [],
   "source": [
    "shape = 5\n",
    "A = gen_matrix_plain(shape)\n",
    "csr_A = csr_mat(A)\n",
    "print(A)"
   ]
  },
  {
   "cell_type": "code",
   "execution_count": null,
   "id": "fcdd0a6b-ab97-4521-ae6e-f0138eb51631",
   "metadata": {},
   "outputs": [],
   "source": [
    "### réponse en exécutant la cellule vous vérifierez votre code\n",
    "AV = [7,4,7,2,9,4,8,7,7]\n",
    "JC = [2,1,3,1,4,3,4,2,4]\n",
    "IA = [0,1,3,5,7,9]\n",
    "\n",
    "check_AV = (AV == csr_A.AV).all()\n",
    "check_JC = (JC == csr_A.JC).all()\n",
    "check_IA = (IA == csr_A.IA).all()\n",
    "print(f\"Le résultat est {\"correct\" if check_AV and check_JC and check_IA else \"incorrect\"}\")\n",
    "print(f\"AV est {\"correct\" if check_AV  else \"incorrect\"}\")\n",
    "print(f\"JC est {\"correct\" if check_JC  else \"incorrect\"}\")\n",
    "print(f\"IA est {\"correct\" if check_IA  else \"incorrect\"}\")"
   ]
  },
  {
   "cell_type": "code",
   "execution_count": null,
   "id": "832ad717-5b1a-4803-8e58-cc5877d36470",
   "metadata": {},
   "outputs": [],
   "source": [
    "# Executer pour afficher la bonne réponse\n",
    "print(\"AV:\",csr_A.AV)\n",
    "print(\"JC:\",csr_A.JC)\n",
    "print(\"IA:\",csr_A.IA)"
   ]
  },
  {
   "cell_type": "markdown",
   "id": "0876f42f-7d83-4bf7-b750-b6468b965eef",
   "metadata": {},
   "source": [
    "# CSR to plain"
   ]
  },
  {
   "cell_type": "code",
   "execution_count": null,
   "id": "e210b5ec-dff1-4eba-abbe-286f32e72cfe",
   "metadata": {},
   "outputs": [],
   "source": [
    "shape = 5\n",
    "A = gen_matrix_plain(shape)\n",
    "csr_A = csr_mat(A)\n",
    "print(\"AV:\",csr_A.AV)\n",
    "print(\"JC:\",csr_A.JC)\n",
    "print(\"IA:\",csr_A.IA)"
   ]
  },
  {
   "cell_type": "code",
   "execution_count": null,
   "id": "447c1121-1c94-4d12-a294-59d5c55110c9",
   "metadata": {},
   "outputs": [],
   "source": [
    "# réponse ici\n",
    "R = np.array([\n",
    "    [0,6,0,0,0],\n",
    "    [5,0,3,4,9],\n",
    "    [7,0,3,0,4],\n",
    "    [0,0,0,0,0],\n",
    "    [0,5,1,3,0]\n",
    "])\n",
    "check_eq = (R == A).all()\n",
    "print(f\"Le résultat donnée est {\"corect\" if check_eq else \"incorect\"}\")"
   ]
  },
  {
   "cell_type": "code",
   "execution_count": null,
   "id": "e0740539-2d64-40c4-96bf-79e6368a03c5",
   "metadata": {},
   "outputs": [],
   "source": [
    "# afficher la réponse\n",
    "print(\"La réponse est:\")\n",
    "print(A)"
   ]
  }
 ],
 "metadata": {
  "kernelspec": {
   "display_name": "Python 3 (ipykernel)",
   "language": "python",
   "name": "python3"
  },
  "language_info": {
   "codemirror_mode": {
    "name": "ipython",
    "version": 3
   },
   "file_extension": ".py",
   "mimetype": "text/x-python",
   "name": "python",
   "nbconvert_exporter": "python",
   "pygments_lexer": "ipython3",
   "version": "3.12.3"
  }
 },
 "nbformat": 4,
 "nbformat_minor": 5
}
